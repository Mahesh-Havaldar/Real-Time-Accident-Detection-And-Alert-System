{
 "cells": [
  {
   "cell_type": "code",
   "execution_count": null,
   "metadata": {
    "colab": {
     "base_uri": "https://localhost:8080/"
    },
    "executionInfo": {
     "elapsed": 570,
     "status": "ok",
     "timestamp": 1739339739412,
     "user": {
      "displayName": "Mr Robot",
      "userId": "05409548189829044231"
     },
     "user_tz": -330
    },
    "id": "CjpPg4mGKc1v",
    "outputId": "deb55769-3d5f-4c0d-a256-678768b793df"
   },
   "outputs": [],
   "source": [
    "import os\n",
    "HOME = os.getcwd()\n",
    "print(HOME)"
   ]
  },
  {
   "cell_type": "code",
   "execution_count": null,
   "metadata": {
    "colab": {
     "base_uri": "https://localhost:8080/"
    },
    "id": "2lTBMXxbg2rq",
    "outputId": "50fa8877-bc4a-4e3e-daf5-87aef7fd4257"
   },
   "outputs": [],
   "source": [
    "!pip install sympy==1.11.1\n",
    "!pip uninstall ultralytics sympy -y\n",
    "!pip install ultralytics sympy\n"
   ]
  },
  {
   "cell_type": "code",
   "execution_count": 2,
   "metadata": {
    "colab": {
     "base_uri": "https://localhost:8080/"
    },
    "executionInfo": {
     "elapsed": 99373,
     "status": "ok",
     "timestamp": 1739339847017,
     "user": {
      "displayName": "Mr Robot",
      "userId": "05409548189829044231"
     },
     "user_tz": -330
    },
    "id": "tdSMcABDNKW-",
    "outputId": "c76f89b5-a5cb-44c3-f591-7a72812f7b50"
   },
   "outputs": [
    {
     "name": "stdout",
     "output_type": "stream",
     "text": [
      "Ultralytics 8.3.74 🚀 Python-3.11.11 torch-2.5.1+cu124 CUDA:0 (Tesla T4, 15095MiB)\n",
      "Setup complete ✅ (2 CPUs, 12.7 GB RAM, 33.1/112.6 GB disk)\n"
     ]
    }
   ],
   "source": [
    "# Pip install method (recommended)\n",
    "\n",
    "!pip install ultralytics\n",
    "\n",
    "from IPython import display\n",
    "display.clear_output()\n",
    "\n",
    "import ultralytics\n",
    "ultralytics.checks()"
   ]
  },
  {
   "cell_type": "code",
   "execution_count": null,
   "metadata": {
    "id": "iVvaIYEEPOty"
   },
   "outputs": [],
   "source": [
    "# Git clone method (for development)\n",
    "\n",
    "# %cd {HOME}\n",
    "# !git clone github.com/ultralytics/ultralytics\n",
    "# %cd {HOME}/ultralytics\n",
    "# !pip install -qe ultralytics\n",
    "\n",
    "# from IPython import display\n",
    "# display.clear_output()\n",
    "\n",
    "# import ultralytics\n",
    "# ultralytics.checks()"
   ]
  },
  {
   "cell_type": "code",
   "execution_count": 3,
   "metadata": {
    "executionInfo": {
     "elapsed": 422,
     "status": "ok",
     "timestamp": 1739339852966,
     "user": {
      "displayName": "Mr Robot",
      "userId": "05409548189829044231"
     },
     "user_tz": -330
    },
    "id": "VOEYrlBoP9-E"
   },
   "outputs": [],
   "source": [
    "from ultralytics import YOLO\n",
    "\n",
    "from IPython.display import display, Image"
   ]
  },
  {
   "cell_type": "code",
   "execution_count": null,
   "metadata": {
    "colab": {
     "base_uri": "https://localhost:8080/"
    },
    "id": "FDbMt_M6PiXb",
    "outputId": "24d7ef82-36ef-4785-c6aa-e07aee587d1c"
   },
   "outputs": [],
   "source": [
    "%cd {HOME}\n",
    "!yolo task=detect mode=predict model=yolov8n.pt conf=0.25 source='https://media.roboflow.com/notebooks/examples/dog.jpeg' save=True"
   ]
  },
  {
   "cell_type": "code",
   "execution_count": null,
   "metadata": {
    "colab": {
     "background_save": true
    },
    "id": "Jze57H3ayc6b"
   },
   "outputs": [],
   "source": [
    "from google.colab import drive\n",
    "drive.mount('/content/gdrive')\n",
    "!ln -s /content/gdrive/My\\ Drive/ /mydrive\n",
    "!ls /mydrive\n",
    "\n"
   ]
  },
  {
   "cell_type": "code",
   "execution_count": null,
   "metadata": {
    "colab": {
     "base_uri": "https://localhost:8080/"
    },
    "executionInfo": {
     "elapsed": 12236,
     "status": "ok",
     "timestamp": 1739255603707,
     "user": {
      "displayName": "Mr Robot",
      "userId": "05409548189829044231"
     },
     "user_tz": -330
    },
    "id": "BSd93ZJzZZKt",
    "outputId": "93a97db9-5f66-4a2d-e1eb-374982dc20f5"
   },
   "outputs": [],
   "source": [
    "!mkdir {HOME}/fire\n",
    "%cd {HOME}/fire\n",
    "\n",
    "!unzip /content/gdrive/MyDrive/Fire-Smoke-Detection.zip"
   ]
  },
  {
   "cell_type": "code",
   "execution_count": null,
   "metadata": {
    "colab": {
     "base_uri": "https://localhost:8080/"
    },
    "executionInfo": {
     "elapsed": 4520,
     "status": "ok",
     "timestamp": 1739255697991,
     "user": {
      "displayName": "Mr Robot",
      "userId": "05409548189829044231"
     },
     "user_tz": -330
    },
    "id": "8I4E0UIVsPOl",
    "outputId": "dddd2da0-a8aa-46eb-a8d9-f212c5c213ee"
   },
   "outputs": [],
   "source": [
    "from google.colab import drive\n",
    "drive.mount('/content/drive')"
   ]
  },
  {
   "cell_type": "code",
   "execution_count": null,
   "metadata": {
    "colab": {
     "base_uri": "https://localhost:8080/"
    },
    "id": "D2YkphuiaE7_",
    "outputId": "8b3a20a7-9ce9-464f-c4b1-f98da74db772"
   },
   "outputs": [],
   "source": [
    "%cd {HOME}\n",
    "\n",
    "!yolo task=detect mode=train model=yolov8n.pt data=/content/Dataset/data.yaml epochs=10 imgsz=800 plots=True"
   ]
  },
  {
   "cell_type": "code",
   "execution_count": null,
   "metadata": {
    "colab": {
     "base_uri": "https://localhost:8080/"
    },
    "id": "h3tSwvnU42oW",
    "outputId": "9659efde-7a41-401f-82e0-e54fc1194a24"
   },
   "outputs": [],
   "source": [
    "pip install -U albumentations\n"
   ]
  },
  {
   "cell_type": "code",
   "execution_count": null,
   "metadata": {
    "colab": {
     "base_uri": "https://localhost:8080/",
     "height": 1000
    },
    "executionInfo": {
     "elapsed": 62617,
     "status": "error",
     "timestamp": 1739261060190,
     "user": {
      "displayName": "Mr Robot",
      "userId": "05409548189829044231"
     },
     "user_tz": -330
    },
    "id": "fUffE8MUpID7",
    "outputId": "bc4ead12-9af5-4e9f-da36-299b561b8549"
   },
   "outputs": [],
   "source": [
    "from ultralytics import YOLO\n",
    "\n",
    "# Load a YOLOv8 model (pre-trained on COCO, replace with yolov8n, yolov8m, etc. if needed)\n",
    "model = YOLO('yolov8n.pt')  # or 'yolov8n.pt', 'yolov8m.pt', etc.\n",
    "\n",
    "# Train the model\n",
    "model.train(data='/content/fire/data.yaml',  # Path to the dataset configuration file\n",
    "            epochs=10,                 # Number of epochs to train\n",
    "            imgsz=640,                 # Input image size (can be 640, 800, etc.)\n",
    "            batch=1,                  # Batch size (adjust based on your GPU memory)\n",
    "            save=True,                 # Save model checkpoints\n",
    "            plots=True,                # Plot training results\n",
    "            device='0')                  # Train on the first available GPU (set 'cpu' to use CPU)\n"
   ]
  },
  {
   "cell_type": "code",
   "execution_count": null,
   "metadata": {
    "colab": {
     "base_uri": "https://localhost:8080/",
     "height": 287
    },
    "id": "o_9GMFTarX_n",
    "outputId": "f4339285-22f9-4309-cf50-6ea62478534f"
   },
   "outputs": [],
   "source": [
    "pip install --upgrade pillow\n"
   ]
  },
  {
   "cell_type": "code",
   "execution_count": null,
   "metadata": {
    "colab": {
     "base_uri": "https://localhost:8080/",
     "height": 304
    },
    "id": "ALarzld6rZK2",
    "outputId": "ca225fcd-19f3-47c7-e938-b1d5ab15d0aa"
   },
   "outputs": [],
   "source": [
    "!export LC_ALL=C.UTF-8\n",
    "!export LANG=C.UTF-8\n"
   ]
  },
  {
   "cell_type": "code",
   "execution_count": null,
   "metadata": {
    "colab": {
     "base_uri": "https://localhost:8080/",
     "height": 17
    },
    "executionInfo": {
     "elapsed": 1307,
     "status": "ok",
     "timestamp": 1739261072726,
     "user": {
      "displayName": "Mr Robot",
      "userId": "05409548189829044231"
     },
     "user_tz": -330
    },
    "id": "7UTX-smWrjn9",
    "outputId": "c4cc0911-c585-486c-a698-89f4764fc3ef"
   },
   "outputs": [
    {
     "data": {
      "application/javascript": "\n    async function download(id, filename, size) {\n      if (!google.colab.kernel.accessAllowed) {\n        return;\n      }\n      const div = document.createElement('div');\n      const label = document.createElement('label');\n      label.textContent = `Downloading \"${filename}\": `;\n      div.appendChild(label);\n      const progress = document.createElement('progress');\n      progress.max = size;\n      div.appendChild(progress);\n      document.body.appendChild(div);\n\n      const buffers = [];\n      let downloaded = 0;\n\n      const channel = await google.colab.kernel.comms.open(id);\n      // Send a message to notify the kernel that we're ready.\n      channel.send({})\n\n      for await (const message of channel.messages) {\n        // Send a message to notify the kernel that we're ready.\n        channel.send({})\n        if (message.buffers) {\n          for (const buffer of message.buffers) {\n            buffers.push(buffer);\n            downloaded += buffer.byteLength;\n            progress.value = downloaded;\n          }\n        }\n      }\n      const blob = new Blob(buffers, {type: 'application/binary'});\n      const a = document.createElement('a');\n      a.href = window.URL.createObjectURL(blob);\n      a.download = filename;\n      div.appendChild(a);\n      a.click();\n      div.remove();\n    }\n  ",
      "text/plain": [
       "<IPython.core.display.Javascript object>"
      ]
     },
     "metadata": {},
     "output_type": "display_data"
    },
    {
     "data": {
      "application/javascript": "download(\"download_0043564e-529a-47bf-9cb3-b8da0134df24\", \"runs.zip\", 14302477)",
      "text/plain": [
       "<IPython.core.display.Javascript object>"
      ]
     },
     "metadata": {},
     "output_type": "display_data"
    }
   ],
   "source": [
    "import shutil\n",
    "import os\n",
    "from google.colab import files\n",
    "\n",
    "# Define the folder path to be zipped\n",
    "folder_path = \"/content/fire/runs\"  # Change this to your folder path\n",
    "zip_path = \"/content/fire/runs.zip\"  # Output ZIP file path (outside the folder to avoid issues)\n",
    "\n",
    "# Ensure the folder exists before proceeding\n",
    "if os.path.exists(folder_path):\n",
    "    # Create a ZIP archive\n",
    "    shutil.make_archive(zip_path.replace(\".zip\", \"\"), 'zip', folder_path)\n",
    "\n",
    "    # Check if the ZIP file was created successfully\n",
    "    if os.path.exists(zip_path):\n",
    "        # Download the ZIP file\n",
    "        files.download(zip_path)\n",
    "    else:\n",
    "        print(\"Error: ZIP file was not created successfully.\")\n",
    "else:\n",
    "    print(\"Error: The specified folder does not exist.\")\n"
   ]
  }
 ],
 "metadata": {
  "accelerator": "GPU",
  "colab": {
   "gpuType": "T4",
   "name": "",
   "version": ""
  },
  "kernelspec": {
   "display_name": "Python 3",
   "name": "python3"
  },
  "language_info": {
   "name": "python"
  }
 },
 "nbformat": 4,
 "nbformat_minor": 0
}
